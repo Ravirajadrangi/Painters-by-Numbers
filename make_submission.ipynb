{
 "cells": [
  {
   "cell_type": "markdown",
   "metadata": {},
   "source": [
    "### Generate submission csv\n",
    "\n",
    "---"
   ]
  },
  {
   "cell_type": "code",
   "execution_count": 1,
   "metadata": {
    "collapsed": false
   },
   "outputs": [
    {
     "name": "stderr",
     "output_type": "stream",
     "text": [
      "Using TensorFlow backend.\n",
      "/usr/local/lib/python2.7/dist-packages/matplotlib/font_manager.py:273: UserWarning: Matplotlib is building the font cache using fc-list. This may take a moment.\n",
      "  warnings.warn('Matplotlib is building the font cache using fc-list. This may take a moment.')\n"
     ]
    }
   ],
   "source": [
    "import re\n",
    "import keras\n",
    "import numpy as np\n",
    "import pandas as pd\n",
    "from tqdm import tqdm\n",
    "import numpy as np\n",
    "\n",
    "import matplotlib.pyplot as plt\n",
    "\n",
    "%matplotlib inline"
   ]
  },
  {
   "cell_type": "code",
   "execution_count": 2,
   "metadata": {
    "collapsed": false
   },
   "outputs": [],
   "source": [
    "SAMPLE_SIZE = 20486\n",
    "MODEL_FILE = '/d3/caches/kaggle-painters-v3/models/N/e806-l=0.04157-vl=0.03344-a=0.98507-va=0.98807.h5' # V2\n",
    "HSS_CACHE_FILE = 'out/halfsamples.npy'"
   ]
  },
  {
   "cell_type": "code",
   "execution_count": 3,
   "metadata": {
    "collapsed": false
   },
   "outputs": [],
   "source": [
    "hss_cache = np.load(HSS_CACHE_FILE).item()\n",
    "\n",
    "# create sample from bottlecks, dpi and ARs of a pair\n",
    "def create_pair_sample(fid1, fid2):\n",
    "    \n",
    "    hs1 = hss_cache[fid1]\n",
    "    hs2 = hss_cache[fid2]\n",
    "    \n",
    "    return np.hstack((hs1, hs2))"
   ]
  },
  {
   "cell_type": "code",
   "execution_count": 4,
   "metadata": {
    "collapsed": false
   },
   "outputs": [],
   "source": [
    "# load submission info\n",
    "test_df = pd.read_csv('submission_info.csv', index_col='index')\n",
    "\n",
    "# convert image filenames to fids\n",
    "test_df['image1'] = [int(re.findall(r'(\\d+).jpg$', x)[0]) for x in test_df['image1']]\n",
    "test_df['image2'] = [int(re.findall(r'(\\d+).jpg$', x)[0]) for x in test_df['image2']]"
   ]
  },
  {
   "cell_type": "code",
   "execution_count": 5,
   "metadata": {
    "collapsed": true
   },
   "outputs": [],
   "source": [
    "# load model\n",
    "model = keras.models.load_model(MODEL_FILE)"
   ]
  },
  {
   "cell_type": "code",
   "execution_count": 6,
   "metadata": {
    "collapsed": false
   },
   "outputs": [],
   "source": [
    "# create dataframe for submission\n",
    "subm_df = pd.DataFrame({'index': np.array([], dtype=np.int64), 'sameArtist': np.array([], dtype=np.float32)})\n",
    "subm_df = subm_df.set_index('index')"
   ]
  },
  {
   "cell_type": "code",
   "execution_count": 7,
   "metadata": {
    "collapsed": false
   },
   "outputs": [],
   "source": [
    "N = 100000 # samples per batch\n",
    "batch_no = 0\n",
    "batch_features = np.zeros([N, SAMPLE_SIZE], dtype=np.float32)\n",
    "batch_test_indexes = []"
   ]
  },
  {
   "cell_type": "code",
   "execution_count": null,
   "metadata": {
    "collapsed": true
   },
   "outputs": [],
   "source": [
    "def dump_batch():\n",
    "    global batch_test_indexes\n",
    "    global batch_features\n",
    "    global batch_no\n",
    "    global subm_df\n",
    "    global N\n",
    "    \n",
    "    batch_no = batch_no + 1\n",
    "    \n",
    "    y_p = model.predict(\n",
    "        batch_features[:len(batch_test_indexes)],\n",
    "        verbose=False\n",
    "    )\n",
    "\n",
    "    batch_df = pd.DataFrame({\n",
    "        'index': batch_test_indexes,\n",
    "        'sameArtist': y_p.T[0]\n",
    "    })\n",
    "    \n",
    "    batch_df = batch_df.set_index('index')\n",
    "    subm_df = subm_df.append(batch_df)\n",
    "    \n",
    "    batch_features = np.zeros([N, SAMPLE_SIZE], dtype=np.float32)\n",
    "    batch_test_indexes = []"
   ]
  },
  {
   "cell_type": "code",
   "execution_count": null,
   "metadata": {
    "collapsed": false
   },
   "outputs": [
    {
     "name": "stderr",
     "output_type": "stream",
     "text": [
      "458226it [01:06, 13632.21it/s]"
     ]
    }
   ],
   "source": [
    "for row in tqdm(test_df.iterrows()):\n",
    "    \n",
    "    test_index = int(row[0])\n",
    "    fid1 = row[1]['image1']\n",
    "    fid2 = row[1]['image2']\n",
    "    \n",
    "    ix = len(batch_test_indexes)\n",
    "    batch_test_indexes.append(test_index)\n",
    "    batch_features[ix] = create_pair_sample(fid1, fid2)\n",
    "\n",
    "    if len(batch_test_indexes) == N: \n",
    "        dump_batch()\n",
    "\n",
    "if len(batch_test_indexes) > 0: dump_batch()\n",
    "    \n",
    "# del batch_test_indexes\n",
    "# del batch_features"
   ]
  },
  {
   "cell_type": "code",
   "execution_count": null,
   "metadata": {
    "collapsed": true
   },
   "outputs": [],
   "source": [
    "subm_df.to_csv('submission.csv', index=True, float_format='%.8f')"
   ]
  },
  {
   "cell_type": "code",
   "execution_count": 11,
   "metadata": {
    "collapsed": false
   },
   "outputs": [
    {
     "data": {
      "text/plain": [
       "(array([ 21417888.,    498159.]),\n",
       " array([ 0. ,  0.5,  1. ]),\n",
       " <a list of 2 Patch objects>)"
      ]
     },
     "execution_count": 11,
     "metadata": {},
     "output_type": "execute_result"
    },
    {
     "data": {
      "image/png": "[encoded data removed]",
      "text/plain": [
       "<matplotlib.figure.Figure at 0x7fe39d5eba90>"
      ]
     },
     "metadata": {},
     "output_type": "display_data"
    }
   ],
   "source": [
    "plt.hist(subm_df['sameArtist'].values, bins=2)"
   ]
  },
  {
   "cell_type": "code",
   "execution_count": null,
   "metadata": {
    "collapsed": true
   },
   "outputs": [],
   "source": []
  }
 ],
 "metadata": {
  "kernelspec": {
   "display_name": "Python 2",
   "language": "python",
   "name": "python2"
  },
  "language_info": {
   "codemirror_mode": {
    "name": "ipython",
    "version": 2
   },
   "file_extension": ".py",
   "mimetype": "text/x-python",
   "name": "python",
   "nbconvert_exporter": "python",
   "pygments_lexer": "ipython2",
   "version": "2.7.6"
  }
 },
 "nbformat": 4,
 "nbformat_minor": 1
}
